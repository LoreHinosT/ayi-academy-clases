{
 "cells": [
  {
   "cell_type": "markdown",
   "id": "4c442ae4",
   "metadata": {},
   "source": [
    "# 📊 Análisis Numérico con NumPy aplicado a datos de ventas\n",
    "\n",
    "En este notebook vamos a aplicar **conceptos fundamentales de NumPy** para explorar un conjunto de datos de ventas de productos en distintas tiendas.\n",
    "\n",
    "El objetivo es practicar la manipulación de arrays, operaciones vectorizadas, filtrado, estadísticas básicas y álgebra lineal, usando datos reales.\n",
    "\n",
    "---\n",
    "\n",
    "## 📁 Descripción del dataset (`market.csv`)\n",
    "\n",
    "Este conjunto de datos contiene información sobre productos, tiendas y ventas. A continuación se describen las variables principales:\n",
    "\n",
    "| Variable | Descripción |\n",
    "|----------|-------------|\n",
    "| `Item_Identifier` | ID del producto |\n",
    "| `Item_Weight` | Peso del producto |\n",
    "| `Item_Fat_Content` | Contenido de grasa del producto (Low Fat / Regular) |\n",
    "| `Item_Visibility` | Porcentaje de visibilidad del producto en el total del área de exhibición |\n",
    "| `Item_Type` | Categoría del producto (Dairy, Soft Drinks, etc.) |\n",
    "| `Item_MRP` | Precio de venta al público máximo |\n",
    "| `Outlet_Identifier` | ID de la tienda |\n",
    "| `Outlet_Establishment_Year` | Año de apertura de la tienda |\n",
    "| `Outlet_Size` | Tamaño de la tienda |\n",
    "| `Outlet_Location_Type` | Tipo de ciudad donde se ubica la tienda |\n",
    "| `Outlet_Type` | Tipo de tienda |\n",
    "| `Item_Outlet_Sales` | Ventas del producto en esa tienda |\n",
    "\n",
    "---\n"
   ]
  },
  {
   "cell_type": "code",
   "execution_count": 4,
   "id": "bf2e319c",
   "metadata": {},
   "outputs": [
    {
     "data": {
      "text/html": [
       "<div>\n",
       "<style scoped>\n",
       "    .dataframe tbody tr th:only-of-type {\n",
       "        vertical-align: middle;\n",
       "    }\n",
       "\n",
       "    .dataframe tbody tr th {\n",
       "        vertical-align: top;\n",
       "    }\n",
       "\n",
       "    .dataframe thead th {\n",
       "        text-align: right;\n",
       "    }\n",
       "</style>\n",
       "<table border=\"1\" class=\"dataframe\">\n",
       "  <thead>\n",
       "    <tr style=\"text-align: right;\">\n",
       "      <th></th>\n",
       "      <th>Item_Identifier</th>\n",
       "      <th>Item_Weight</th>\n",
       "      <th>Item_Fat_Content</th>\n",
       "      <th>Item_Visibility</th>\n",
       "      <th>Item_Type</th>\n",
       "      <th>Item_MRP</th>\n",
       "      <th>Outlet_Identifier</th>\n",
       "      <th>Outlet_Establishment_Year</th>\n",
       "      <th>Outlet_Size</th>\n",
       "      <th>Outlet_Location_Type</th>\n",
       "      <th>Outlet_Type</th>\n",
       "      <th>Item_Outlet_Sales</th>\n",
       "    </tr>\n",
       "  </thead>\n",
       "  <tbody>\n",
       "    <tr>\n",
       "      <th>0</th>\n",
       "      <td>FDA15</td>\n",
       "      <td>9.300</td>\n",
       "      <td>Low Fat</td>\n",
       "      <td>0.016047</td>\n",
       "      <td>Dairy</td>\n",
       "      <td>249.8092</td>\n",
       "      <td>OUT049</td>\n",
       "      <td>1999</td>\n",
       "      <td>Medium</td>\n",
       "      <td>Tier 1</td>\n",
       "      <td>Supermarket Type1</td>\n",
       "      <td>3735.1380</td>\n",
       "    </tr>\n",
       "    <tr>\n",
       "      <th>1</th>\n",
       "      <td>DRC01</td>\n",
       "      <td>5.920</td>\n",
       "      <td>Regular</td>\n",
       "      <td>0.019278</td>\n",
       "      <td>Soft Drinks</td>\n",
       "      <td>48.2692</td>\n",
       "      <td>OUT018</td>\n",
       "      <td>2009</td>\n",
       "      <td>Medium</td>\n",
       "      <td>Tier 3</td>\n",
       "      <td>Supermarket Type2</td>\n",
       "      <td>443.4228</td>\n",
       "    </tr>\n",
       "    <tr>\n",
       "      <th>2</th>\n",
       "      <td>FDN15</td>\n",
       "      <td>17.500</td>\n",
       "      <td>Low Fat</td>\n",
       "      <td>0.016760</td>\n",
       "      <td>Meat</td>\n",
       "      <td>141.6180</td>\n",
       "      <td>OUT049</td>\n",
       "      <td>1999</td>\n",
       "      <td>Medium</td>\n",
       "      <td>Tier 1</td>\n",
       "      <td>Supermarket Type1</td>\n",
       "      <td>2097.2700</td>\n",
       "    </tr>\n",
       "    <tr>\n",
       "      <th>3</th>\n",
       "      <td>FDX07</td>\n",
       "      <td>19.200</td>\n",
       "      <td>Regular</td>\n",
       "      <td>0.000000</td>\n",
       "      <td>Fruits and Vegetables</td>\n",
       "      <td>182.0950</td>\n",
       "      <td>OUT010</td>\n",
       "      <td>1998</td>\n",
       "      <td>NaN</td>\n",
       "      <td>Tier 3</td>\n",
       "      <td>Grocery Store</td>\n",
       "      <td>732.3800</td>\n",
       "    </tr>\n",
       "    <tr>\n",
       "      <th>4</th>\n",
       "      <td>NCD19</td>\n",
       "      <td>8.930</td>\n",
       "      <td>Low Fat</td>\n",
       "      <td>0.000000</td>\n",
       "      <td>Household</td>\n",
       "      <td>53.8614</td>\n",
       "      <td>OUT013</td>\n",
       "      <td>1987</td>\n",
       "      <td>High</td>\n",
       "      <td>Tier 3</td>\n",
       "      <td>Supermarket Type1</td>\n",
       "      <td>994.7052</td>\n",
       "    </tr>\n",
       "    <tr>\n",
       "      <th>...</th>\n",
       "      <td>...</td>\n",
       "      <td>...</td>\n",
       "      <td>...</td>\n",
       "      <td>...</td>\n",
       "      <td>...</td>\n",
       "      <td>...</td>\n",
       "      <td>...</td>\n",
       "      <td>...</td>\n",
       "      <td>...</td>\n",
       "      <td>...</td>\n",
       "      <td>...</td>\n",
       "      <td>...</td>\n",
       "    </tr>\n",
       "    <tr>\n",
       "      <th>8518</th>\n",
       "      <td>FDF22</td>\n",
       "      <td>6.865</td>\n",
       "      <td>Low Fat</td>\n",
       "      <td>0.056783</td>\n",
       "      <td>Snack Foods</td>\n",
       "      <td>214.5218</td>\n",
       "      <td>OUT013</td>\n",
       "      <td>1987</td>\n",
       "      <td>High</td>\n",
       "      <td>Tier 3</td>\n",
       "      <td>Supermarket Type1</td>\n",
       "      <td>2778.3834</td>\n",
       "    </tr>\n",
       "    <tr>\n",
       "      <th>8519</th>\n",
       "      <td>FDS36</td>\n",
       "      <td>8.380</td>\n",
       "      <td>Regular</td>\n",
       "      <td>0.046982</td>\n",
       "      <td>Baking Goods</td>\n",
       "      <td>108.1570</td>\n",
       "      <td>OUT045</td>\n",
       "      <td>2002</td>\n",
       "      <td>NaN</td>\n",
       "      <td>Tier 2</td>\n",
       "      <td>Supermarket Type1</td>\n",
       "      <td>549.2850</td>\n",
       "    </tr>\n",
       "    <tr>\n",
       "      <th>8520</th>\n",
       "      <td>NCJ29</td>\n",
       "      <td>10.600</td>\n",
       "      <td>Low Fat</td>\n",
       "      <td>0.035186</td>\n",
       "      <td>Health and Hygiene</td>\n",
       "      <td>85.1224</td>\n",
       "      <td>OUT035</td>\n",
       "      <td>2004</td>\n",
       "      <td>Small</td>\n",
       "      <td>Tier 2</td>\n",
       "      <td>Supermarket Type1</td>\n",
       "      <td>1193.1136</td>\n",
       "    </tr>\n",
       "    <tr>\n",
       "      <th>8521</th>\n",
       "      <td>FDN46</td>\n",
       "      <td>7.210</td>\n",
       "      <td>Regular</td>\n",
       "      <td>0.145221</td>\n",
       "      <td>Snack Foods</td>\n",
       "      <td>103.1332</td>\n",
       "      <td>OUT018</td>\n",
       "      <td>2009</td>\n",
       "      <td>Medium</td>\n",
       "      <td>Tier 3</td>\n",
       "      <td>Supermarket Type2</td>\n",
       "      <td>1845.5976</td>\n",
       "    </tr>\n",
       "    <tr>\n",
       "      <th>8522</th>\n",
       "      <td>DRG01</td>\n",
       "      <td>14.800</td>\n",
       "      <td>Low Fat</td>\n",
       "      <td>0.044878</td>\n",
       "      <td>Soft Drinks</td>\n",
       "      <td>75.4670</td>\n",
       "      <td>OUT046</td>\n",
       "      <td>1997</td>\n",
       "      <td>Small</td>\n",
       "      <td>Tier 1</td>\n",
       "      <td>Supermarket Type1</td>\n",
       "      <td>765.6700</td>\n",
       "    </tr>\n",
       "  </tbody>\n",
       "</table>\n",
       "<p>8523 rows × 12 columns</p>\n",
       "</div>"
      ],
      "text/plain": [
       "     Item_Identifier  Item_Weight Item_Fat_Content  Item_Visibility  \\\n",
       "0              FDA15        9.300          Low Fat         0.016047   \n",
       "1              DRC01        5.920          Regular         0.019278   \n",
       "2              FDN15       17.500          Low Fat         0.016760   \n",
       "3              FDX07       19.200          Regular         0.000000   \n",
       "4              NCD19        8.930          Low Fat         0.000000   \n",
       "...              ...          ...              ...              ...   \n",
       "8518           FDF22        6.865          Low Fat         0.056783   \n",
       "8519           FDS36        8.380          Regular         0.046982   \n",
       "8520           NCJ29       10.600          Low Fat         0.035186   \n",
       "8521           FDN46        7.210          Regular         0.145221   \n",
       "8522           DRG01       14.800          Low Fat         0.044878   \n",
       "\n",
       "                  Item_Type  Item_MRP Outlet_Identifier  \\\n",
       "0                     Dairy  249.8092            OUT049   \n",
       "1               Soft Drinks   48.2692            OUT018   \n",
       "2                      Meat  141.6180            OUT049   \n",
       "3     Fruits and Vegetables  182.0950            OUT010   \n",
       "4                 Household   53.8614            OUT013   \n",
       "...                     ...       ...               ...   \n",
       "8518            Snack Foods  214.5218            OUT013   \n",
       "8519           Baking Goods  108.1570            OUT045   \n",
       "8520     Health and Hygiene   85.1224            OUT035   \n",
       "8521            Snack Foods  103.1332            OUT018   \n",
       "8522            Soft Drinks   75.4670            OUT046   \n",
       "\n",
       "      Outlet_Establishment_Year Outlet_Size Outlet_Location_Type  \\\n",
       "0                          1999      Medium               Tier 1   \n",
       "1                          2009      Medium               Tier 3   \n",
       "2                          1999      Medium               Tier 1   \n",
       "3                          1998         NaN               Tier 3   \n",
       "4                          1987        High               Tier 3   \n",
       "...                         ...         ...                  ...   \n",
       "8518                       1987        High               Tier 3   \n",
       "8519                       2002         NaN               Tier 2   \n",
       "8520                       2004       Small               Tier 2   \n",
       "8521                       2009      Medium               Tier 3   \n",
       "8522                       1997       Small               Tier 1   \n",
       "\n",
       "            Outlet_Type  Item_Outlet_Sales  \n",
       "0     Supermarket Type1          3735.1380  \n",
       "1     Supermarket Type2           443.4228  \n",
       "2     Supermarket Type1          2097.2700  \n",
       "3         Grocery Store           732.3800  \n",
       "4     Supermarket Type1           994.7052  \n",
       "...                 ...                ...  \n",
       "8518  Supermarket Type1          2778.3834  \n",
       "8519  Supermarket Type1           549.2850  \n",
       "8520  Supermarket Type1          1193.1136  \n",
       "8521  Supermarket Type2          1845.5976  \n",
       "8522  Supermarket Type1           765.6700  \n",
       "\n",
       "[8523 rows x 12 columns]"
      ]
     },
     "execution_count": 4,
     "metadata": {},
     "output_type": "execute_result"
    }
   ],
   "source": [
    "import numpy as np\n",
    "import pandas as pd\n",
    "\n",
    "# Cargar el dataset\n",
    "df = pd.read_csv(\"market.csv\")\n",
    "\n",
    "# Visualizar primeras filas\n",
    "df"
   ]
  },
  {
   "cell_type": "markdown",
   "id": "2743e557",
   "metadata": {},
   "source": [
    "## 🔢 Conversión a arrays NumPy"
   ]
  },
  {
   "cell_type": "code",
   "execution_count": 9,
   "id": "ae3b700a",
   "metadata": {},
   "outputs": [
    {
     "name": "stdout",
     "output_type": "stream",
     "text": [
      "(8523,)\n",
      "Pesos: (8523,) float64\n",
      "Ventas: (8523,) float64\n"
     ]
    }
   ],
   "source": [
    "# Convertir columnas numéricas a arrays\n",
    "pesos = df[\"Item_Weight\"].to_numpy()\n",
    "ventas = df[\"Item_Outlet_Sales\"].to_numpy()\n",
    "precios = df[\"Item_MRP\"].to_numpy()\n",
    "visibilidad = df[\"Item_Visibility\"].to_numpy()\n",
    "print(pesos.shape)\n",
    "# Mostrar dimensiones y tipos\n",
    "print(\"Pesos:\", pesos.shape, pesos.dtype)\n",
    "print(\"Ventas:\", ventas.shape, ventas.dtype)"
   ]
  },
  {
   "cell_type": "markdown",
   "id": "553cccab",
   "metadata": {},
   "source": [
    "## 📈 Estadísticas básicas con NumPy"
   ]
  },
  {
   "cell_type": "code",
   "execution_count": null,
   "id": "cfc9e0d5",
   "metadata": {},
   "outputs": [],
   "source": [
    "print(\"Peso promedio:\", np.nanmean(pesos))\n",
    "print(\"Desvío estándar de ventas:\", np.std(ventas))\n",
    "print(\"Precio máximo:\", np.max(precios))\n",
    "print(\"Visibilidad mínima:\", np.min(visibilidad))"
   ]
  },
  {
   "cell_type": "code",
   "execution_count": null,
   "id": "678447c4",
   "metadata": {},
   "outputs": [
    {
     "name": "stdout",
     "output_type": "stream",
     "text": [
      "resultado:499883.910761 - tiempo:0.1631\n"
     ]
    }
   ],
   "source": [
    "import time \n",
    "data = np.random.rand(1_000_000)\n",
    "lst = data.tolist()\n",
    "t0=time.time()\n",
    "total_for=0.0\n",
    "for x in lst:\n",
    "    total_for +=x\n",
    "t1=time.time()\n",
    "print(f\"resultado:{total_for:.6f} - tiempo:{t1-t0:.4f}\")\n"
   ]
  },
  {
   "cell_type": "code",
   "execution_count": 13,
   "id": "e177f7dc",
   "metadata": {},
   "outputs": [
    {
     "name": "stdout",
     "output_type": "stream",
     "text": [
      "FOR → resultado: 500522.054170 - tiempo: 0.1480 s\n",
      "500522.05416962085\n",
      "NumPy → resultado: 500522.054170 - tiempo: 0.0020 s\n"
     ]
    }
   ],
   "source": [
    "import numpy as np\n",
    "import time\n",
    "\n",
    "# Crear un array de 1 millón de números aleatorios\n",
    "data = np.random.rand(1_000_000)\n",
    "\n",
    "# --------- Suma con for tradicional ---------\n",
    "lst = data.tolist()\n",
    "t0 = time.time()\n",
    "total_for = 0.0\n",
    "for x in lst:\n",
    "    total_for += x\n",
    "t1 = time.time()\n",
    "print(f\"FOR → resultado: {total_for:.6f} - tiempo: {t1-t0:.4f} s\")\n",
    "\n",
    "# --------- Suma vectorizada de NumPy ---------\n",
    "t0 = time.time()\n",
    "total_numpy = np.sum(data)\n",
    "print(data.sum())\n",
    "t1 = time.time()\n",
    "print(f\"NumPy → resultado: {total_numpy:.6f} - tiempo: {t1-t0:.4f} s\")\n"
   ]
  },
  {
   "cell_type": "markdown",
   "id": "02c1da31",
   "metadata": {},
   "source": [
    "## 🔍 Filtrado de datos con condiciones"
   ]
  },
  {
   "cell_type": "code",
   "execution_count": 16,
   "id": "d42c0620",
   "metadata": {},
   "outputs": [
    {
     "name": "stdout",
     "output_type": "stream",
     "text": [
      "Productos con peso > 15kg: 2613\n",
      "Ventas por encima del promedio: (3523,)\n"
     ]
    }
   ],
   "source": [
    "# Productos con peso mayor a 15 kg\n",
    "pesados = pesos[pesos > 15]\n",
    "print(\"Productos con peso > 15kg:\", pesados.shape[0])\n",
    "\n",
    "# Ventas mayores a la media\n",
    "media_ventas = np.mean(ventas)\n",
    "ventas_altas = ventas[ventas > media_ventas]\n",
    "print(\"Ventas por encima del promedio:\", ventas_altas.shape)"
   ]
  },
  {
   "cell_type": "markdown",
   "id": "13c352df",
   "metadata": {},
   "source": [
    "## ⚙️ Operaciones vectorizadas"
   ]
  },
  {
   "cell_type": "code",
   "execution_count": 32,
   "id": "21350c35",
   "metadata": {},
   "outputs": [
    {
     "name": "stdout",
     "output_type": "stream",
     "text": [
      "[26.8612043   8.15358108  8.09245714 ...  8.03041509 14.30418863\n",
      "  5.09912162]\n",
      "Precio por kilo (primeros 5): [26.8612043   8.15358108  8.09245714  9.48411458  6.03151176  4.9447619\n",
      "  4.22408791  5.98596296  9.78236458  3.85933898]\n"
     ]
    }
   ],
   "source": [
    "# Precio por kilo estimado\n",
    "precio_x_kg = precios / pesos\n",
    "precio_x_kg=precio_x_kg[~np.isnan(precio_x_kg)]\n",
    "print(precio_x_kg)\n",
    "print(\"Precio por kilo (primeros 5):\", precio_x_kg[:10])"
   ]
  },
  {
   "cell_type": "markdown",
   "id": "d5f88037",
   "metadata": {},
   "source": [
    "## ➕ Álgebra matricial con NumPy"
   ]
  },
  {
   "cell_type": "code",
   "execution_count": 37,
   "id": "0386797b",
   "metadata": {},
   "outputs": [
    {
     "name": "stdout",
     "output_type": "stream",
     "text": [
      "[[ 249.8092   48.2692  141.618   182.095    53.8614   51.4008   57.6588\n",
      "   107.7622   96.9726  187.8214   45.5402  144.1102  145.4786  119.6782\n",
      "   196.4426   56.3614  115.3492   54.3614  113.2834  230.5352  250.8724\n",
      "   144.5444  196.5084  107.6938  165.021    45.906    42.3112   39.1164\n",
      "    45.5086   43.6454   55.7956   96.4436  256.6672   93.1436  174.8738\n",
      "   146.7102  128.0678  122.5388   36.9874   87.6198  230.6352  126.002\n",
      "   192.9136  259.9278  126.5046  178.1002  153.3024  265.2226   60.622\n",
      "   196.8794  143.8812  141.5154  117.0492  196.3794  151.4708  249.0408\n",
      "   106.1622   38.0506  194.511   180.0344  246.9144   87.3514   38.2848\n",
      "    51.0692  255.8356  185.4266  172.5738  186.024   164.8526   95.841\n",
      "   170.1764   59.222   164.7526  189.6188  254.3698  114.0176  172.3422\n",
      "    89.9804  104.9622  222.5456  101.87    180.3344  187.9556  194.6136\n",
      "   171.3764  177.0028  160.992   155.963    95.6436  117.2808  122.173\n",
      "    39.9138   55.1614   57.893   114.5492  120.0414  246.046   187.4556\n",
      "   149.9708  187.8556]\n",
      " [3735.138   443.4228 2097.27    732.38    994.7052  556.6088  343.5528\n",
      "  4022.7636 1076.5986 4710.535  1516.0266 2187.153  1589.2646 2145.2076\n",
      "  1977.426  1547.3192 1621.8888  718.3982 2303.668  2748.4224 3775.086\n",
      "  4064.0432 1587.2672  214.3876 4078.025   838.908  1065.28    308.9312\n",
      "   178.4344  125.8362  163.7868 2741.7644 3068.0064 2174.5028 2085.2856\n",
      "  3791.0652 2797.6916 1609.9044  388.1614 2180.495  3435.528  2150.534\n",
      "  2527.3768 6768.5228  373.5138  358.2004 2428.8384 5815.0972 2576.646\n",
      "   780.3176 3134.5864  850.8924  810.9444 3121.2704 4815.0656 6258.52\n",
      "  2117.244   796.9626 4910.275   892.172  3185.1872 1062.6168  484.7024\n",
      "   147.8076 2543.356   184.4266 4865.6664 1118.544  2302.3364 2027.361\n",
      "  3435.528   599.22   4604.6728 2285.0256 5580.7356 2290.352  1207.0954\n",
      "   643.1628 1587.933  5305.0944 1697.79   1427.4752 4693.89    583.2408\n",
      "  3091.9752 2479.4392 2716.464  3285.723   661.8052 1523.3504  369.519\n",
      "   690.4346 1381.535   622.523  1274.3412  487.3656 1231.73   3755.112\n",
      "  4363.6532 1314.2892]]\n"
     ]
    },
    {
     "data": {
      "text/plain": [
       "array([[2.33314993e+06, 3.57611804e+07],\n",
       "       [3.57611804e+07, 6.98390172e+08]])"
      ]
     },
     "execution_count": 37,
     "metadata": {},
     "output_type": "execute_result"
    }
   ],
   "source": [
    "# Crear matriz de dos variables\n",
    "matriz = np.vstack((precios[:100], ventas[:100]))  # 2x100\n",
    "print(matriz)\n",
    "matriz_t = matriz.T  # 100x2\n",
    "\n",
    "# Producto matricial (covarianza básica)\n",
    "producto = matriz @ matriz_t  # 2x2\n",
    "producto"
   ]
  },
  {
   "cell_type": "markdown",
   "id": "f89a68e0",
   "metadata": {},
   "source": [
    "## 🧠 Desafíos propuestos\n",
    "\n",
    "1. Calcular la mediana del peso de los productos usando NumPy.\n",
    "2. ¿Cuál es el valor más frecuente (moda) de `Item_Weight`?\n",
    "3. Filtrar los productos que tengan un precio mayor a $250 y visibilidad menor al 0.02.\n",
    "4. Crear un array que contenga la diferencia entre el precio y las ventas para los primeros 500 productos.\n",
    "5. Normalizar los valores de visibilidad entre 0 y 1.\n",
    "6. Crear una matriz de 3 columnas: peso, precio y ventas, y calcular su media por columna.\n",
    "7. ¿Qué productos tienen un valor de peso faltante (`NaN`)? ¿Cuántos hay?\n",
    "8. Simular 100 precios aleatorios con `np.random.normal()` con media 200 y desvío 30.\n",
    "9. Calcular la correlación entre precios y ventas (usando `np.corrcoef`).\n",
    "10. Guardar un nuevo array con los precios redondeados a 2 decimales.\n",
    "\n",
    "💡 Tip: ¡Usá funciones como `np.isnan`, `np.round`, `np.corrcoef`, `np.nanmean`, `np.unique`!\n"
   ]
  },
  {
   "cell_type": "code",
   "execution_count": 38,
   "id": "ecbe8d84",
   "metadata": {},
   "outputs": [
    {
     "name": "stdout",
     "output_type": "stream",
     "text": [
      "12.6\n"
     ]
    }
   ],
   "source": [
    "print(np.nanmedian(pesos))"
   ]
  },
  {
   "cell_type": "code",
   "execution_count": null,
   "id": "183b95a8",
   "metadata": {},
   "outputs": [
    {
     "name": "stdout",
     "output_type": "stream",
     "text": [
      "[ 9.3   5.92 17.5  ... 10.6   7.21 14.8 ]\n",
      "12.15\n"
     ]
    }
   ],
   "source": [
    "pesos=pesos[~np.isnan(pesos)]\n",
    "print(pesos)\n",
    "# Usamos np.unique con return_counts para contar la frecuencia de cada valor\n",
    "values, counts = np.unique(pesos, return_counts=True)\n",
    "# print(\"Valores únicos:\", values)\n",
    "# print(\"Cantidad de veces que aparece cada valor:\", counts)\n",
    "\n",
    "# Encontramos el índice del valor con máxima frecuencia\n",
    "max_index = np.argmax(counts)\n",
    "\n",
    "# Obtenemos la moda\n",
    "moda = values[max_index]\n",
    "print(moda)"
   ]
  },
  {
   "cell_type": "code",
   "execution_count": null,
   "id": "de7db180",
   "metadata": {},
   "outputs": [],
   "source": [
    "# 3. Filtrar los productos que tengan un precio mayor a $250 y visibilidad menor al 0.02.\n"
   ]
  }
 ],
 "metadata": {
  "kernelspec": {
   "display_name": "Python 3",
   "language": "python",
   "name": "python3"
  },
  "language_info": {
   "codemirror_mode": {
    "name": "ipython",
    "version": 3
   },
   "file_extension": ".py",
   "mimetype": "text/x-python",
   "name": "python",
   "nbconvert_exporter": "python",
   "pygments_lexer": "ipython3",
   "version": "3.13.5"
  }
 },
 "nbformat": 4,
 "nbformat_minor": 5
}
